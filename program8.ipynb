{
  "nbformat": 4,
  "nbformat_minor": 0,
  "metadata": {
    "colab": {
      "name": "program8.ipynb",
      "provenance": []
    },
    "kernelspec": {
      "name": "python3",
      "display_name": "Python 3"
    },
    "language_info": {
      "name": "python"
    }
  },
  "cells": [
    {
      "cell_type": "code",
      "metadata": {
        "id": "thR6yykL_chs"
      },
      "source": [
        "import numpy as np"
      ],
      "execution_count": 1,
      "outputs": []
    },
    {
      "cell_type": "code",
      "metadata": {
        "id": "P-8D7BQNBezN"
      },
      "source": [
        "def sigmoid(x):\n",
        "    return 1/(1+np.exp(-x))"
      ],
      "execution_count": 2,
      "outputs": []
    },
    {
      "cell_type": "code",
      "metadata": {
        "id": "JY31k76LBktb"
      },
      "source": [
        "def sigmoid_derivation(x):\n",
        "    return x*(x-1)"
      ],
      "execution_count": 3,
      "outputs": []
    },
    {
      "cell_type": "code",
      "metadata": {
        "id": "La7hauYBBmzR"
      },
      "source": [
        "input = np.array([[0,0,1],\n",
        "                  [1,1,1],\n",
        "                  [1,0,1],\n",
        "                  [0,1,1]])"
      ],
      "execution_count": 4,
      "outputs": []
    },
    {
      "cell_type": "code",
      "metadata": {
        "id": "QKag6S2NBsis"
      },
      "source": [
        "a_output = np.array([[0,1,1,0]]).T"
      ],
      "execution_count": 5,
      "outputs": []
    },
    {
      "cell_type": "code",
      "metadata": {
        "id": "QLDdFE0lB5vq"
      },
      "source": [
        "np.random.seed(1)"
      ],
      "execution_count": 6,
      "outputs": []
    },
    {
      "cell_type": "code",
      "metadata": {
        "id": "ObdQ4fFKB-Ef"
      },
      "source": [
        "weights = 2* np.random.random((3,1)) - 1"
      ],
      "execution_count": 7,
      "outputs": []
    },
    {
      "cell_type": "code",
      "metadata": {
        "colab": {
          "base_uri": "https://localhost:8080/"
        },
        "id": "2DfuEmqRCIDB",
        "outputId": "1f6f51bd-b8a4-40f5-d066-78438eac4aa8"
      },
      "source": [
        "print('Initial weights are:')\n",
        "print(weights)"
      ],
      "execution_count": 8,
      "outputs": [
        {
          "output_type": "stream",
          "text": [
            "Initial weights are:\n",
            "[[-0.16595599]\n",
            " [ 0.44064899]\n",
            " [-0.99977125]]\n"
          ],
          "name": "stdout"
        }
      ]
    },
    {
      "cell_type": "code",
      "metadata": {
        "id": "nFpdTWKMCOaJ"
      },
      "source": [
        "for i in range(10000):\n",
        "    input_layer = input\n",
        "    o_output = sigmoid(np.dot(input_layer, weights))"
      ],
      "execution_count": 9,
      "outputs": []
    },
    {
      "cell_type": "code",
      "metadata": {
        "id": "huEppd6DCUPP"
      },
      "source": [
        "loss = o_output - a_output"
      ],
      "execution_count": 10,
      "outputs": []
    },
    {
      "cell_type": "code",
      "metadata": {
        "id": "b6ZcbBM-CdUH"
      },
      "source": [
        "adjustment = loss * sigmoid_derivation(o_output)"
      ],
      "execution_count": 11,
      "outputs": []
    },
    {
      "cell_type": "code",
      "metadata": {
        "id": "q33oLTvTCyKy"
      },
      "source": [
        "weights = weights + np.dot(input_layer.T, adjustment)"
      ],
      "execution_count": 12,
      "outputs": []
    },
    {
      "cell_type": "code",
      "metadata": {
        "colab": {
          "base_uri": "https://localhost:8080/"
        },
        "id": "P01BrqpNC5nQ",
        "outputId": "a0e00a75-67a3-4094-ffa3-988628545ee7"
      },
      "source": [
        "print('new weights are:')\n",
        "print(weights)\n",
        "\n",
        "print('obtained output values are')\n",
        "print(o_output)"
      ],
      "execution_count": 13,
      "outputs": [
        {
          "output_type": "stream",
          "text": [
            "new weights are:\n",
            "[[ 0.12025406]\n",
            " [ 0.50456196]\n",
            " [-0.85063774]]\n",
            "obtained output values are\n",
            "[[0.2689864 ]\n",
            " [0.3262757 ]\n",
            " [0.23762817]\n",
            " [0.36375058]]\n"
          ],
          "name": "stdout"
        }
      ]
    }
  ]
}